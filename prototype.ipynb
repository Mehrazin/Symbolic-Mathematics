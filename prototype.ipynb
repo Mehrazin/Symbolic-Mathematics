{
 "cells": [
  {
   "cell_type": "markdown",
   "id": "acoustic-radius",
   "metadata": {},
   "source": [
    "# Data Prepration"
   ]
  },
  {
   "cell_type": "code",
   "execution_count": 128,
   "id": "level-conflict",
   "metadata": {},
   "outputs": [],
   "source": [
    "from config import Config\n",
    "import utils\n",
    "from utils import EnvHndler\n",
    "import os\n",
    "import sympy as sp\n",
    "import torch\n",
    "import numpy as np\n",
    "from torch.utils.data import Dataset\n",
    "from torch.utils.data import DataLoader\n",
    "from datahandler import MathData, create_data_loader\n",
    "import random"
   ]
  },
  {
   "cell_type": "code",
   "execution_count": 129,
   "id": "colonial-titanium",
   "metadata": {},
   "outputs": [],
   "source": [
    "def set_seed(seed):\n",
    "    \"\"\"Set seed\"\"\"\n",
    "    random.seed(seed)\n",
    "    np.random.seed(seed)\n",
    "    torch.manual_seed(seed)\n",
    "    if torch.cuda.is_available():\n",
    "        torch.cuda.manual_seed(seed)\n",
    "        torch.cuda.manual_seed_all(seed)\n",
    "        torch.backends.cudnn.deterministic = True\n",
    "        torch.backends.cudnn.benchmark = False\n",
    "    os.environ[\"PYTHONHASHSEED\"] = str(seed)\n",
    "set_seed(0)"
   ]
  },
  {
   "cell_type": "code",
   "execution_count": 130,
   "id": "verified-soldier",
   "metadata": {},
   "outputs": [],
   "source": [
    "config = Config()"
   ]
  },
  {
   "cell_type": "code",
   "execution_count": 131,
   "id": "vocational-client",
   "metadata": {},
   "outputs": [],
   "source": [
    "config.reload_size = 10"
   ]
  },
  {
   "cell_type": "code",
   "execution_count": 132,
   "id": "behind-husband",
   "metadata": {},
   "outputs": [],
   "source": [
    "env = EnvHndler(config)"
   ]
  },
  {
   "cell_type": "code",
   "execution_count": 133,
   "id": "destroyed-street",
   "metadata": {},
   "outputs": [],
   "source": [
    "df = MathData(config, env, dtype = 'train')"
   ]
  },
  {
   "cell_type": "code",
   "execution_count": 134,
   "id": "attempted-serve",
   "metadata": {},
   "outputs": [
    {
     "data": {
      "text/plain": [
       "[[\"sub Y' INT+ 1\", 'x'],\n",
       " [\"sub Y' INT+ 2\", 'mul INT+ 2 x'],\n",
       " [\"sub Y' mul INT+ 4 x\", 'mul INT+ 2 pow x INT+ 2'],\n",
       " [\"sub Y' add INT+ 2 mul INT+ 2 x\", 'add pow x INT+ 2 mul INT+ 2 x'],\n",
       " [\"sub Y' mul INT+ 3 pow x INT+ 2\", 'pow x INT+ 3'],\n",
       " [\"sub Y' pow x INT- 1\", 'ln x'],\n",
       " [\"sub Y' mul INT- 1 sin x\", 'cos x'],\n",
       " [\"sub Y' exp x\", 'exp x'],\n",
       " [\"sub Y' cos x\", 'sin x'],\n",
       " [\"sub Y' add INT+ 1 mul INT+ 4 x\", 'add x mul INT+ 2 pow x INT+ 2']]"
      ]
     },
     "execution_count": 134,
     "metadata": {},
     "output_type": "execute_result"
    }
   ],
   "source": [
    "df.data"
   ]
  },
  {
   "cell_type": "code",
   "execution_count": 135,
   "id": "lyric-residence",
   "metadata": {},
   "outputs": [
    {
     "data": {
      "text/plain": [
       "[67, 79, 71, 83]"
      ]
     },
     "execution_count": 135,
     "metadata": {},
     "output_type": "execute_result"
    }
   ],
   "source": [
    "[env.word2id[x] for x in df.data[1][0].split()]"
   ]
  },
  {
   "cell_type": "code",
   "execution_count": 136,
   "id": "friendly-drain",
   "metadata": {},
   "outputs": [
    {
     "data": {
      "text/plain": [
       "1152921504606846976"
      ]
     },
     "execution_count": 136,
     "metadata": {},
     "output_type": "execute_result"
    }
   ],
   "source": [
    "len(df)"
   ]
  },
  {
   "cell_type": "code",
   "execution_count": 137,
   "id": "wrapped-diploma",
   "metadata": {},
   "outputs": [
    {
     "data": {
      "text/plain": [
       "(['sub', \"Y'\", 'pow', 'x', 'INT-', '1'], ['ln', 'x'])"
      ]
     },
     "execution_count": 137,
     "metadata": {},
     "output_type": "execute_result"
    }
   ],
   "source": [
    "df[1000]"
   ]
  },
  {
   "cell_type": "code",
   "execution_count": 138,
   "id": "liberal-heart",
   "metadata": {},
   "outputs": [],
   "source": [
    "loader = create_data_loader(config, env, dtype = 'train')"
   ]
  },
  {
   "cell_type": "code",
   "execution_count": 139,
   "id": "mechanical-passage",
   "metadata": {},
   "outputs": [],
   "source": [
    "it = iter(loader)"
   ]
  },
  {
   "cell_type": "code",
   "execution_count": 140,
   "id": "proprietary-clear",
   "metadata": {},
   "outputs": [
    {
     "data": {
      "text/plain": [
       "10"
      ]
     },
     "execution_count": 140,
     "metadata": {},
     "output_type": "execute_result"
    }
   ],
   "source": [
    "config.batch_size"
   ]
  },
  {
   "cell_type": "code",
   "execution_count": 141,
   "id": "geographic-invalid",
   "metadata": {},
   "outputs": [],
   "source": [
    "batch = next(it)"
   ]
  },
  {
   "cell_type": "code",
   "execution_count": 142,
   "id": "genetic-barrel",
   "metadata": {},
   "outputs": [],
   "source": [
    "def get_masks(slen, lengths, causal):\n",
    "    \"\"\"\n",
    "    Generate hidden states mask, and optionally an attention mask.\n",
    "    \"\"\"\n",
    "    assert lengths.max().item() <= slen\n",
    "    bs = lengths.size(0)\n",
    "    alen = torch.arange(slen, dtype=torch.long, device=lengths.device)\n",
    "    mask = alen < lengths[:, None]\n",
    "\n",
    "    # attention mask is the same as mask, or triangular inferior attention (causal)\n",
    "    if causal:\n",
    "        attn_mask = alen[None, None, :].repeat(bs, slen, 1) <= alen[None, :, None]\n",
    "    else:\n",
    "        attn_mask = mask\n",
    "\n",
    "    # sanity check\n",
    "    assert mask.size() == (bs, slen)\n",
    "    assert causal is False or attn_mask.size() == (bs, slen, slen)\n",
    "\n",
    "    return mask, attn_mask"
   ]
  },
  {
   "cell_type": "code",
   "execution_count": 143,
   "id": "animated-october",
   "metadata": {},
   "outputs": [],
   "source": [
    "(x,len_x), (y,len_y), _ = batch"
   ]
  },
  {
   "cell_type": "code",
   "execution_count": 144,
   "id": "instructional-enemy",
   "metadata": {},
   "outputs": [],
   "source": [
    "slen = x.shape[0]"
   ]
  },
  {
   "cell_type": "code",
   "execution_count": 172,
   "id": "harmful-glory",
   "metadata": {},
   "outputs": [],
   "source": [
    "mask, am = get_masks(slen, len_x, causal = True)"
   ]
  },
  {
   "cell_type": "code",
   "execution_count": 173,
   "id": "latter-niger",
   "metadata": {},
   "outputs": [
    {
     "data": {
      "text/plain": [
       "tensor(8)"
      ]
     },
     "execution_count": 173,
     "metadata": {},
     "output_type": "execute_result"
    }
   ],
   "source": [
    "len_x[6]"
   ]
  },
  {
   "cell_type": "code",
   "execution_count": 174,
   "id": "informative-module",
   "metadata": {},
   "outputs": [],
   "source": [
    " alen = torch.arange(slen, dtype=torch.long)"
   ]
  },
  {
   "cell_type": "code",
   "execution_count": 179,
   "id": "cultural-cloud",
   "metadata": {},
   "outputs": [
    {
     "data": {
      "text/plain": [
       "tensor([[ True, False, False, False, False, False, False, False, False, False,\n",
       "         False],\n",
       "        [ True,  True, False, False, False, False, False, False, False, False,\n",
       "         False],\n",
       "        [ True,  True,  True, False, False, False, False, False, False, False,\n",
       "         False],\n",
       "        [ True,  True,  True,  True, False, False, False, False, False, False,\n",
       "         False],\n",
       "        [ True,  True,  True,  True,  True, False, False, False, False, False,\n",
       "         False],\n",
       "        [ True,  True,  True,  True,  True,  True, False, False, False, False,\n",
       "         False],\n",
       "        [ True,  True,  True,  True,  True,  True,  True, False, False, False,\n",
       "         False],\n",
       "        [ True,  True,  True,  True,  True,  True,  True,  True, False, False,\n",
       "         False],\n",
       "        [ True,  True,  True,  True,  True,  True,  True,  True,  True, False,\n",
       "         False],\n",
       "        [ True,  True,  True,  True,  True,  True,  True,  True,  True,  True,\n",
       "         False],\n",
       "        [ True,  True,  True,  True,  True,  True,  True,  True,  True,  True,\n",
       "          True]])"
      ]
     },
     "execution_count": 179,
     "metadata": {},
     "output_type": "execute_result"
    }
   ],
   "source": [
    "am[0]"
   ]
  },
  {
   "cell_type": "code",
   "execution_count": 168,
   "id": "looking-vanilla",
   "metadata": {},
   "outputs": [
    {
     "data": {
      "text/plain": [
       "tensor([[ True,  True,  True,  True,  True,  True, False, False, False, False,\n",
       "         False],\n",
       "        [ True,  True,  True,  True,  True,  True,  True,  True,  True,  True,\n",
       "          True],\n",
       "        [ True,  True,  True,  True,  True,  True,  True,  True,  True,  True,\n",
       "          True],\n",
       "        [ True,  True,  True,  True,  True,  True, False, False, False, False,\n",
       "         False],\n",
       "        [ True,  True,  True,  True,  True,  True,  True,  True,  True,  True,\n",
       "          True],\n",
       "        [ True,  True,  True,  True,  True,  True,  True,  True,  True,  True,\n",
       "          True],\n",
       "        [ True,  True,  True,  True,  True,  True,  True,  True, False, False,\n",
       "         False],\n",
       "        [ True,  True,  True,  True,  True,  True,  True,  True, False, False,\n",
       "         False],\n",
       "        [ True,  True,  True,  True,  True,  True,  True,  True,  True,  True,\n",
       "          True],\n",
       "        [ True,  True,  True,  True,  True,  True, False, False, False, False,\n",
       "         False]])"
      ]
     },
     "execution_count": 168,
     "metadata": {},
     "output_type": "execute_result"
    }
   ],
   "source": [
    "mask"
   ]
  },
  {
   "cell_type": "code",
   "execution_count": 166,
   "id": "parental-corruption",
   "metadata": {},
   "outputs": [
    {
     "ename": "RuntimeError",
     "evalue": "The size of tensor a (11) must match the size of tensor b (10) at non-singleton dimension 0",
     "output_type": "error",
     "traceback": [
      "\u001b[0;31m---------------------------------------------------------------------------\u001b[0m",
      "\u001b[0;31mRuntimeError\u001b[0m                              Traceback (most recent call last)",
      "\u001b[0;32m<ipython-input-166-9c435ae94853>\u001b[0m in \u001b[0;36m<module>\u001b[0;34m\u001b[0m\n\u001b[0;32m----> 1\u001b[0;31m \u001b[0malen\u001b[0m \u001b[0;34m<\u001b[0m \u001b[0mlen_x\u001b[0m\u001b[0;34m[\u001b[0m\u001b[0;34m:\u001b[0m\u001b[0;34m]\u001b[0m\u001b[0;34m\u001b[0m\u001b[0;34m\u001b[0m\u001b[0m\n\u001b[0m",
      "\u001b[0;31mRuntimeError\u001b[0m: The size of tensor a (11) must match the size of tensor b (10) at non-singleton dimension 0"
     ]
    }
   ],
   "source": [
    "alen < len_x[:]"
   ]
  },
  {
   "cell_type": "markdown",
   "id": "becoming-health",
   "metadata": {},
   "source": [
    "# Model Prepration"
   ]
  },
  {
   "cell_type": "code",
   "execution_count": 1,
   "id": "selective-appliance",
   "metadata": {},
   "outputs": [],
   "source": [
    "from config import Config\n",
    "import torch\n",
    "import torch.nn as nn\n",
    "import os\n",
    "import pickle\n",
    "import numpy as np\n",
    "import random\n",
    "import torch.nn.functional as F\n",
    "import math\n",
    "from Model import Multi_Head_Attention, Feed_Forward, get_masks, EncoderBlock, DecoderBlock, Transformers\n",
    "from utils import EnvHndler"
   ]
  },
  {
   "cell_type": "code",
   "execution_count": 2,
   "id": "textile-fever",
   "metadata": {},
   "outputs": [],
   "source": [
    "config = Config()"
   ]
  },
  {
   "cell_type": "code",
   "execution_count": 3,
   "id": "spare-shock",
   "metadata": {},
   "outputs": [],
   "source": [
    "env = EnvHndler(config)"
   ]
  },
  {
   "cell_type": "code",
   "execution_count": 4,
   "id": "solar-artist",
   "metadata": {},
   "outputs": [
    {
     "data": {
      "text/plain": [
       "91"
      ]
     },
     "execution_count": 4,
     "metadata": {},
     "output_type": "execute_result"
    }
   ],
   "source": [
    "config.n_words"
   ]
  },
  {
   "cell_type": "code",
   "execution_count": 5,
   "id": "republican-creature",
   "metadata": {},
   "outputs": [],
   "source": [
    "bs = 4\n",
    "# qlen = 5\n",
    "ilen = 5\n",
    "olen = 3\n",
    "config.model_dim = 16\n",
    "dm = config.model_dim\n",
    "head_dim = dm//config.num_head\n",
    "x = torch.randint(low = 0, high = config.n_words, size = (ilen, bs)).long()\n",
    "y = torch.randint(low = 0, high = config.n_words, size = (olen, bs)).long()\n",
    "len_x = torch.tensor([2,4,5,3])\n",
    "len_y = torch.tensor([1,3,2,3])\n",
    "# Q = torch.randn((bs, qlen, dm))\n",
    "# V = torch.randn((bs, qlen, dm))\n",
    "# K = torch.randn((bs, qlen, dm))\n",
    "# lenghts = torch.tensor([2,4,5,3])"
   ]
  },
  {
   "cell_type": "code",
   "execution_count": 7,
   "id": "celtic-proceeding",
   "metadata": {},
   "outputs": [
    {
     "data": {
      "text/plain": [
       "torch.Size([5, 4])"
      ]
     },
     "execution_count": 7,
     "metadata": {},
     "output_type": "execute_result"
    }
   ],
   "source": [
    "x.shape"
   ]
  },
  {
   "cell_type": "code",
   "execution_count": 8,
   "id": "aboriginal-toner",
   "metadata": {},
   "outputs": [
    {
     "data": {
      "text/plain": [
       "torch.Size([3, 4])"
      ]
     },
     "execution_count": 8,
     "metadata": {},
     "output_type": "execute_result"
    }
   ],
   "source": [
    "y.shape"
   ]
  },
  {
   "cell_type": "code",
   "execution_count": 5,
   "id": "ranking-survivor",
   "metadata": {},
   "outputs": [],
   "source": [
    "enc = EncoderBlock(config)"
   ]
  },
  {
   "cell_type": "code",
   "execution_count": 6,
   "id": "solar-organizer",
   "metadata": {},
   "outputs": [],
   "source": [
    "dec = DecoderBlock(config)"
   ]
  },
  {
   "cell_type": "code",
   "execution_count": 7,
   "id": "pursuant-freeware",
   "metadata": {},
   "outputs": [],
   "source": [
    "N, slen, dm = x.size()\n",
    "e_mask , e_atten_mask = get_masks(slen, len_x, causal = False)"
   ]
  },
  {
   "cell_type": "code",
   "execution_count": 8,
   "id": "lightweight-villa",
   "metadata": {},
   "outputs": [],
   "source": [
    "N, tlen, dm = y.size()\n",
    "d_mask , d_atten_mask = get_masks(tlen, len_y, causal = True)"
   ]
  },
  {
   "cell_type": "code",
   "execution_count": 9,
   "id": "intensive-reputation",
   "metadata": {},
   "outputs": [],
   "source": [
    "src_mask = torch.arange(len_x.max(), dtype=torch.long, device=len_x.device) < len_x[:, None]"
   ]
  },
  {
   "cell_type": "code",
   "execution_count": 10,
   "id": "religious-translator",
   "metadata": {},
   "outputs": [
    {
     "data": {
      "text/plain": [
       "True"
      ]
     },
     "execution_count": 10,
     "metadata": {},
     "output_type": "execute_result"
    }
   ],
   "source": [
    "torch.equal(e_mask, src_mask)"
   ]
  },
  {
   "cell_type": "code",
   "execution_count": 11,
   "id": "copyrighted-nebraska",
   "metadata": {},
   "outputs": [],
   "source": [
    "encoded = enc(x, e_atten_mask, e_mask)"
   ]
  },
  {
   "cell_type": "code",
   "execution_count": 15,
   "id": "vietnamese-pocket",
   "metadata": {},
   "outputs": [
    {
     "data": {
      "text/plain": [
       "torch.Size([4, 5, 16])"
      ]
     },
     "execution_count": 15,
     "metadata": {},
     "output_type": "execute_result"
    }
   ],
   "source": [
    "x.shape"
   ]
  },
  {
   "cell_type": "code",
   "execution_count": 14,
   "id": "single-portrait",
   "metadata": {},
   "outputs": [
    {
     "data": {
      "text/plain": [
       "torch.Size([4, 5, 16])"
      ]
     },
     "execution_count": 14,
     "metadata": {},
     "output_type": "execute_result"
    }
   ],
   "source": [
    "encoded.shape"
   ]
  },
  {
   "cell_type": "code",
   "execution_count": 12,
   "id": "arabic-perry",
   "metadata": {},
   "outputs": [],
   "source": [
    "decoded = dec(y, encoded, d_atten_mask, d_mask, e_mask)"
   ]
  },
  {
   "cell_type": "code",
   "execution_count": 13,
   "id": "contemporary-closer",
   "metadata": {},
   "outputs": [
    {
     "data": {
      "text/plain": [
       "torch.Size([4, 3, 16])"
      ]
     },
     "execution_count": 13,
     "metadata": {},
     "output_type": "execute_result"
    }
   ],
   "source": [
    "decoded.shape"
   ]
  },
  {
   "cell_type": "code",
   "execution_count": 16,
   "id": "electric-driver",
   "metadata": {},
   "outputs": [
    {
     "data": {
      "text/plain": [
       "torch.Size([4, 3, 16])"
      ]
     },
     "execution_count": 16,
     "metadata": {},
     "output_type": "execute_result"
    }
   ],
   "source": [
    "y.shape"
   ]
  },
  {
   "cell_type": "code",
   "execution_count": 6,
   "id": "engaging-butterfly",
   "metadata": {},
   "outputs": [],
   "source": [
    "tr = Transformers(config)"
   ]
  },
  {
   "cell_type": "code",
   "execution_count": 7,
   "id": "little-locator",
   "metadata": {},
   "outputs": [],
   "source": [
    "enc = tr(mode = 'encode', x = x, len_x = len_x)"
   ]
  },
  {
   "cell_type": "code",
   "execution_count": 9,
   "id": "consistent-heater",
   "metadata": {},
   "outputs": [],
   "source": [
    "dec = tr(mode = 'decode', y = y, len_y = len_y, encoded = enc.transpose(0,1), len_enc = len_x)"
   ]
  },
  {
   "cell_type": "code",
   "execution_count": 11,
   "id": "dutch-lecture",
   "metadata": {},
   "outputs": [],
   "source": [
    "# target words to predict\n",
    "alen = torch.arange(len_y.max(), dtype=torch.long, device=len_y.device)\n",
    "pred_mask = alen[:, None] < len_y[None] - 1  # do not predict anything given the last target word\n",
    "t = y[1:].masked_select(pred_mask[:-1])\n",
    "assert len(t) == (len_y - 1).sum().item()"
   ]
  },
  {
   "cell_type": "code",
   "execution_count": 22,
   "id": "durable-chick",
   "metadata": {},
   "outputs": [
    {
     "data": {
      "text/plain": [
       "tensor([[1, 3, 2, 3]])"
      ]
     },
     "execution_count": 22,
     "metadata": {},
     "output_type": "execute_result"
    }
   ],
   "source": [
    "len_y[None]"
   ]
  },
  {
   "cell_type": "code",
   "execution_count": 16,
   "id": "polished-librarian",
   "metadata": {},
   "outputs": [
    {
     "data": {
      "text/plain": [
       "tensor([ True, False, False])"
      ]
     },
     "execution_count": 16,
     "metadata": {},
     "output_type": "execute_result"
    }
   ],
   "source": [
    "pred_mask[:,2]"
   ]
  },
  {
   "cell_type": "code",
   "execution_count": 21,
   "id": "numerous-assignment",
   "metadata": {},
   "outputs": [
    {
     "data": {
      "text/plain": [
       "tensor([[81, 78,  2,  0],\n",
       "        [45, 89, 12, 84],\n",
       "        [ 8, 19, 87, 49]])"
      ]
     },
     "execution_count": 21,
     "metadata": {},
     "output_type": "execute_result"
    }
   ],
   "source": [
    "y"
   ]
  },
  {
   "cell_type": "code",
   "execution_count": 20,
   "id": "brilliant-headquarters",
   "metadata": {},
   "outputs": [
    {
     "data": {
      "text/plain": [
       "tensor([89, 12, 84, 19, 49])"
      ]
     },
     "execution_count": 20,
     "metadata": {},
     "output_type": "execute_result"
    }
   ],
   "source": [
    "t"
   ]
  },
  {
   "cell_type": "code",
   "execution_count": 23,
   "id": "fantastic-amsterdam",
   "metadata": {},
   "outputs": [],
   "source": [
    "scores, loss = tr(mode = 'predict', tensor = dec, pred_mask = pred_mask, y = t, get_scores = True)"
   ]
  },
  {
   "cell_type": "code",
   "execution_count": 25,
   "id": "coastal-motivation",
   "metadata": {},
   "outputs": [
    {
     "data": {
      "text/plain": [
       "tensor([[-3.0523e-01, -1.7260e-01,  1.6709e-01, -6.3807e-02, -1.2141e+00,\n",
       "          1.1148e-01, -4.9745e-01,  1.2174e+00, -1.5522e-01, -1.5035e+00,\n",
       "          1.8056e+00,  4.3814e-02, -2.7261e-01,  1.4488e+00, -7.3657e-01,\n",
       "         -5.3078e-01,  9.9984e-01,  3.4513e-02,  2.0787e-01,  1.0790e+00,\n",
       "         -1.4123e+00, -8.7211e-01,  2.4148e-01,  7.6112e-01, -1.7555e+00,\n",
       "          8.8923e-01, -5.0359e-01,  9.4234e-02, -6.8736e-01,  2.5731e-01,\n",
       "         -8.1520e-01, -8.2078e-01,  7.7107e-02, -2.1696e+00, -1.0375e-02,\n",
       "          7.9694e-01, -4.4363e-01, -1.4612e+00,  2.2750e-01,  7.9702e-01,\n",
       "          3.2155e-01,  7.8504e-01,  9.5178e-01, -9.5786e-03, -2.2148e+00,\n",
       "         -5.4930e-01,  4.8773e-01, -1.1878e-01,  1.3475e+00,  4.4128e-01,\n",
       "         -5.2684e-01,  1.8356e-01, -5.7675e-01, -5.5094e-01, -3.2704e-01,\n",
       "          6.8494e-01, -1.5358e+00,  1.2058e+00,  1.6582e+00,  1.9032e-01,\n",
       "          1.0826e+00, -6.7693e-01, -7.3593e-01,  2.7785e-01,  7.3701e-01,\n",
       "         -1.4737e+00,  4.7136e-01,  1.9933e+00, -1.1722e+00, -2.0759e-01,\n",
       "          6.3119e-01,  1.8930e+00, -5.8208e-01,  1.7654e+00, -1.2954e+00,\n",
       "          9.7485e-01, -2.8107e-01,  6.8635e-01,  1.1502e+00,  1.5010e+00,\n",
       "         -2.0966e-01, -5.5280e-01, -6.5536e-01, -1.2072e+00,  1.4340e+00,\n",
       "         -2.4508e-01,  3.0006e+00,  7.9665e-01, -9.2465e-01, -4.5843e-01,\n",
       "         -4.7959e-01],\n",
       "        [-5.3710e-01, -1.7260e-01,  1.0025e+00,  6.3615e-01, -1.6479e+00,\n",
       "         -7.7239e-01, -2.3359e-01,  2.0606e-01, -7.6279e-01, -1.1234e+00,\n",
       "          1.9680e+00,  6.9566e-01,  2.3742e-01,  9.1858e-01,  3.2480e-01,\n",
       "          3.4505e-01,  1.1417e+00,  2.4970e-01,  2.3000e-01,  1.6986e-01,\n",
       "         -1.4056e+00, -1.0871e+00,  4.1584e-02,  3.0154e-01, -9.9165e-01,\n",
       "          8.0996e-01, -1.0619e+00,  1.8217e-01, -4.9732e-01,  4.8214e-01,\n",
       "         -3.2340e-01, -2.9325e-01, -5.8145e-02, -1.4917e+00,  9.1636e-01,\n",
       "          9.5616e-01, -1.8762e-02, -5.1893e-01,  2.4972e-02,  5.2263e-01,\n",
       "          3.1378e-01,  1.1149e+00,  5.6253e-03,  7.8835e-02, -2.3202e+00,\n",
       "         -2.4311e-01,  1.1486e-01,  1.0491e+00,  9.1479e-01, -3.5727e-01,\n",
       "          4.9788e-01,  5.4884e-01,  1.9114e-02,  1.3520e-01, -1.6301e-01,\n",
       "         -6.7824e-02, -1.8347e-01,  1.1826e+00,  1.0167e+00,  4.2281e-01,\n",
       "          1.2931e-01, -3.5268e-01, -9.7828e-01, -2.0471e-01,  5.6331e-02,\n",
       "         -9.8282e-01,  2.3317e-01,  1.4820e+00, -7.9960e-01, -3.7731e-02,\n",
       "          1.5334e+00,  4.8815e-01, -3.0130e-01,  2.6267e+00, -7.7042e-01,\n",
       "          5.1143e-01, -3.2691e-01,  3.1893e-01, -7.2613e-02,  1.6900e+00,\n",
       "          1.6392e-01, -6.0005e-01, -4.9761e-01, -1.3612e+00,  8.4974e-01,\n",
       "         -3.9841e-01,  3.0335e+00, -2.3028e-01, -1.0392e+00, -1.0669e-01,\n",
       "         -5.1277e-01],\n",
       "        [ 9.6373e-02, -1.7260e-01,  7.4188e-01,  7.5251e-01, -2.0353e+00,\n",
       "         -1.2545e+00, -7.7956e-01,  2.5646e-01,  1.2698e-01, -8.7124e-01,\n",
       "          1.4069e+00,  3.1749e-01,  3.3719e-01,  3.6660e-01,  1.7208e+00,\n",
       "         -4.3444e-01,  6.3738e-01, -7.8363e-01, -1.6864e-01,  1.3058e+00,\n",
       "         -1.1131e+00, -1.0604e+00, -1.2843e-01,  3.1131e-01, -1.0439e+00,\n",
       "          4.5410e-01, -2.0383e+00,  1.1557e+00, -1.3224e-01,  1.0214e+00,\n",
       "         -9.5630e-01, -1.1073e-01,  1.6102e+00, -1.6699e+00,  6.3978e-01,\n",
       "          4.0254e-01,  8.1444e-01, -8.0059e-01,  5.1622e-01,  8.4565e-01,\n",
       "          6.0719e-01,  1.0592e+00,  3.8174e-01, -3.8932e-01, -1.2779e+00,\n",
       "         -2.6220e-01,  2.4332e-01,  1.2214e+00,  9.3818e-01,  8.1788e-01,\n",
       "          5.3421e-01,  9.7588e-01,  5.9514e-01,  4.6594e-01, -6.5312e-01,\n",
       "         -5.2342e-01,  1.1350e-01, -2.6029e-02, -4.2187e-02, -5.4816e-03,\n",
       "          5.1817e-01,  4.9396e-01, -4.2831e-01, -3.0659e-01, -2.0594e-01,\n",
       "         -9.8630e-01,  3.4624e-01,  1.0634e+00,  5.3292e-02,  5.6013e-01,\n",
       "          7.2886e-01,  8.9437e-01, -7.6522e-01,  1.8254e+00, -8.6010e-01,\n",
       "         -4.0126e-02, -5.5361e-01, -3.8032e-01, -4.9866e-01,  1.5028e+00,\n",
       "         -7.5927e-01, -4.7356e-01,  6.4739e-01, -6.6110e-01,  1.2188e+00,\n",
       "          8.0488e-01,  2.1065e+00,  9.6140e-02, -8.5668e-01,  5.0828e-01,\n",
       "         -8.1342e-01],\n",
       "        [ 5.3026e-02, -1.7260e-01,  4.0044e-01,  2.5679e-01, -2.0153e+00,\n",
       "          2.1353e-01, -9.5046e-01,  1.0333e+00, -1.4242e-01, -6.5552e-01,\n",
       "          1.9891e+00,  2.1454e-01,  3.1539e-01,  1.2058e+00,  1.7207e+00,\n",
       "         -2.5455e-01,  4.5535e-02, -7.6362e-01, -4.0967e-01,  1.1061e+00,\n",
       "         -7.3176e-01, -1.2791e+00, -2.2681e-01,  8.8275e-01, -2.0598e+00,\n",
       "          9.7412e-01, -9.8425e-01, -2.6215e-01, -3.4851e-01,  6.4425e-01,\n",
       "         -1.0360e+00, -1.8906e-02,  1.2496e+00, -2.1763e+00,  8.9200e-01,\n",
       "          2.9014e-01, -6.4955e-02, -1.5131e+00,  2.7642e-01,  1.5283e+00,\n",
       "          9.3588e-01,  1.0622e+00,  1.2797e+00, -5.4185e-01, -1.1597e+00,\n",
       "         -8.4296e-01,  1.0436e+00,  6.0933e-01,  8.4469e-01,  1.0294e+00,\n",
       "          5.3219e-04,  1.0865e+00,  3.9249e-01, -3.0852e-01, -8.9480e-01,\n",
       "         -3.1240e-01, -7.3913e-01,  1.8945e-01,  6.2078e-01,  3.7051e-01,\n",
       "          8.5380e-01, -8.9892e-03, -8.8752e-01, -5.7682e-01,  8.0045e-02,\n",
       "         -8.5256e-01,  4.4425e-01,  1.4039e+00, -6.4250e-01,  1.0185e+00,\n",
       "          2.5944e-01,  1.2356e+00, -1.1000e+00,  1.7626e+00, -1.2876e+00,\n",
       "          5.7804e-01, -9.0378e-01,  9.5123e-02,  7.1590e-03,  1.3091e+00,\n",
       "         -4.8936e-01, -2.2566e-01,  4.7525e-01, -8.6630e-01,  1.3293e+00,\n",
       "          2.8635e-01,  3.0512e+00,  6.3823e-01, -6.2273e-01,  8.6626e-01,\n",
       "         -6.0661e-01],\n",
       "        [-6.4893e-01, -1.7260e-01,  3.0531e-01,  4.4143e-02, -2.7547e+00,\n",
       "         -7.5670e-01, -7.1220e-01,  9.6969e-01,  5.9742e-01, -7.8484e-01,\n",
       "          1.2456e+00, -2.1358e-01,  8.3454e-01,  5.2915e-01,  1.9096e+00,\n",
       "         -1.1103e+00,  3.0448e-01, -1.0683e+00, -3.4396e-01,  1.9616e+00,\n",
       "         -5.4295e-01, -7.6886e-01, -3.1916e-01,  9.6839e-01, -1.8070e+00,\n",
       "          4.6027e-01, -1.3642e+00,  3.2573e-01, -1.7369e-01,  1.0247e+00,\n",
       "         -1.0213e+00, -2.2601e-02,  1.4166e+00, -2.0568e+00,  1.2525e-01,\n",
       "          3.8540e-01,  8.1381e-01, -1.6463e+00,  6.8131e-01,  1.6716e+00,\n",
       "          8.8089e-01,  8.3598e-01,  1.1930e+00, -7.0807e-01, -6.0505e-01,\n",
       "         -7.8460e-01,  3.1540e-01,  8.2890e-01,  1.0268e+00,  1.4666e+00,\n",
       "          1.5164e-02,  4.1254e-01,  2.5256e-01,  2.5131e-01, -9.8508e-01,\n",
       "         -6.8843e-01, -1.2091e-01, -5.1030e-01,  7.9930e-01,  1.7471e-01,\n",
       "          1.0236e+00,  2.9104e-01, -1.0801e+00,  2.1201e-01, -2.0427e-01,\n",
       "         -8.2694e-01,  3.3097e-01,  1.2344e+00, -1.9943e-01,  4.5060e-01,\n",
       "         -3.0740e-02,  1.3614e+00, -1.2056e+00,  1.1106e+00, -1.0645e+00,\n",
       "          5.7269e-01, -4.1703e-01,  5.2962e-01, -3.2339e-01,  1.7171e+00,\n",
       "         -2.7319e-01, -3.3144e-01,  8.8937e-01,  4.9113e-02,  1.3590e+00,\n",
       "          6.2320e-01,  1.8749e+00,  9.0703e-01, -6.3344e-02,  1.9531e-01,\n",
       "         -1.2897e+00]], grad_fn=<ViewBackward>)"
      ]
     },
     "execution_count": 25,
     "metadata": {},
     "output_type": "execute_result"
    }
   ],
   "source": [
    "scores"
   ]
  },
  {
   "cell_type": "code",
   "execution_count": null,
   "id": "super-parking",
   "metadata": {},
   "outputs": [],
   "source": []
  }
 ],
 "metadata": {
  "kernelspec": {
   "display_name": "Python 3",
   "language": "python",
   "name": "python3"
  },
  "language_info": {
   "codemirror_mode": {
    "name": "ipython",
    "version": 3
   },
   "file_extension": ".py",
   "mimetype": "text/x-python",
   "name": "python",
   "nbconvert_exporter": "python",
   "pygments_lexer": "ipython3",
   "version": "3.8.5"
  }
 },
 "nbformat": 4,
 "nbformat_minor": 5
}
