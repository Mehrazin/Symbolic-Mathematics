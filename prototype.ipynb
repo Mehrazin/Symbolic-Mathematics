{
 "cells": [
  {
   "cell_type": "code",
   "execution_count": 1,
   "id": "returning-celebration",
   "metadata": {},
   "outputs": [],
   "source": [
    "from config import Config\n",
    "import utils\n",
    "from utils import EnvHndler\n",
    "import os\n",
    "import sympy as sp\n",
    "import torch"
   ]
  },
  {
   "cell_type": "code",
   "execution_count": 2,
   "id": "variable-friday",
   "metadata": {},
   "outputs": [],
   "source": [
    "config = Config()"
   ]
  },
  {
   "cell_type": "code",
   "execution_count": 3,
   "id": "enabling-guidance",
   "metadata": {},
   "outputs": [],
   "source": [
    "env = EnvHndler(config)"
   ]
  },
  {
   "cell_type": "code",
   "execution_count": 4,
   "id": "central-dialogue",
   "metadata": {},
   "outputs": [],
   "source": [
    "x = env.local_dict['x']"
   ]
  },
  {
   "cell_type": "code",
   "execution_count": 5,
   "id": "pressed-process",
   "metadata": {},
   "outputs": [],
   "source": [
    "F_infix = 'cos(x**2 * exp(x * cos(x)))'"
   ]
  },
  {
   "cell_type": "code",
   "execution_count": 6,
   "id": "starting-equity",
   "metadata": {},
   "outputs": [
    {
     "data": {
      "text/latex": [
       "$\\displaystyle \\cos{\\left(x^{2} e^{x \\cos{\\left(x \\right)}} \\right)}$"
      ],
      "text/plain": [
       "cos(x**2*exp(x*cos(x)))"
      ]
     },
     "execution_count": 6,
     "metadata": {},
     "output_type": "execute_result"
    }
   ],
   "source": [
    "F = sp.S(F_infix, locals=env.local_dict)\n",
    "F"
   ]
  },
  {
   "cell_type": "code",
   "execution_count": 7,
   "id": "corresponding-lesson",
   "metadata": {},
   "outputs": [
    {
     "data": {
      "text/latex": [
       "$\\displaystyle - \\left(x^{2} \\left(- x \\sin{\\left(x \\right)} + \\cos{\\left(x \\right)}\\right) e^{x \\cos{\\left(x \\right)}} + 2 x e^{x \\cos{\\left(x \\right)}}\\right) \\sin{\\left(x^{2} e^{x \\cos{\\left(x \\right)}} \\right)}$"
      ],
      "text/plain": [
       "-(x**2*(-x*sin(x) + cos(x))*exp(x*cos(x)) + 2*x*exp(x*cos(x)))*sin(x**2*exp(x*cos(x)))"
      ]
     },
     "execution_count": 7,
     "metadata": {},
     "output_type": "execute_result"
    }
   ],
   "source": [
    "f = F.diff(x)\n",
    "f"
   ]
  },
  {
   "cell_type": "code",
   "execution_count": 8,
   "id": "beneficial-flooring",
   "metadata": {},
   "outputs": [
    {
     "name": "stdout",
     "output_type": "stream",
     "text": [
      "F prefix: ['cos', 'mul', 'pow', 'x', 'INT+', '2', 'exp', 'mul', 'x', 'cos', 'x']\n",
      "f prefix: ['mul', 'INT-', '1', 'mul', 'add', 'mul', 'INT+', '2', 'mul', 'x', 'exp', 'mul', 'x', 'cos', 'x', 'mul', 'pow', 'x', 'INT+', '2', 'mul', 'add', 'mul', 'INT-', '1', 'mul', 'x', 'sin', 'x', 'cos', 'x', 'exp', 'mul', 'x', 'cos', 'x', 'sin', 'mul', 'pow', 'x', 'INT+', '2', 'exp', 'mul', 'x', 'cos', 'x']\n"
     ]
    }
   ],
   "source": [
    "F_prefix = env.sympy_to_prefix(F)\n",
    "f_prefix = env.sympy_to_prefix(f)\n",
    "print(f\"F prefix: {F_prefix}\")\n",
    "print(f\"f prefix: {f_prefix}\")"
   ]
  },
  {
   "cell_type": "code",
   "execution_count": 9,
   "id": "wireless-auction",
   "metadata": {},
   "outputs": [],
   "source": [
    "x1_prefix = env.clean_prefix(['sub', 'derivative', 'f', 'x', 'x'] + f_prefix)"
   ]
  },
  {
   "cell_type": "code",
   "execution_count": 13,
   "id": "curious-denver",
   "metadata": {},
   "outputs": [],
   "source": [
    "hyp = env.prefix_to_infix(F_prefix)       # convert to infix\n",
    "hyp = env.infix_to_sympy(hyp)"
   ]
  },
  {
   "cell_type": "code",
   "execution_count": 14,
   "id": "polished-affiliate",
   "metadata": {},
   "outputs": [
    {
     "data": {
      "text/latex": [
       "$\\displaystyle \\cos{\\left(x^{2} e^{x \\cos{\\left(x \\right)}} \\right)}$"
      ],
      "text/plain": [
       "cos(x**2*exp(x*cos(x)))"
      ]
     },
     "execution_count": 14,
     "metadata": {},
     "output_type": "execute_result"
    }
   ],
   "source": [
    "hyp"
   ]
  },
  {
   "cell_type": "code",
   "execution_count": null,
   "id": "spanish-cocktail",
   "metadata": {},
   "outputs": [],
   "source": []
  }
 ],
 "metadata": {
  "kernelspec": {
   "display_name": "Python 3",
   "language": "python",
   "name": "python3"
  },
  "language_info": {
   "codemirror_mode": {
    "name": "ipython",
    "version": 3
   },
   "file_extension": ".py",
   "mimetype": "text/x-python",
   "name": "python",
   "nbconvert_exporter": "python",
   "pygments_lexer": "ipython3",
   "version": "3.8.5"
  }
 },
 "nbformat": 4,
 "nbformat_minor": 5
}
