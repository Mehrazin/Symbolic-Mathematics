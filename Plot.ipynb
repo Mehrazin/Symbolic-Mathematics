{
 "cells": [
  {
   "cell_type": "code",
   "execution_count": 4,
   "id": "renewable-trance",
   "metadata": {},
   "outputs": [],
   "source": [
    "import os\n",
    "import json\n",
    "import matplotlib.pyplot as plt"
   ]
  },
  {
   "cell_type": "code",
   "execution_count": 5,
   "id": "younger-memorial",
   "metadata": {},
   "outputs": [],
   "source": [
    "class End_of_File(Exception):\n",
    "    pass\n",
    "class log_handler():\n",
    "    def __init__(self, model, exp_id):\n",
    "        assert model in ['M-K80', 'M-V100']\n",
    "        sub_dir = 'Results'\n",
    "        dumped = 'Dumped'\n",
    "        name = 'train.log'\n",
    "        self.path = os.path.join(os.getcwd(),sub_dir, model, dumped, exp_id, name)\n",
    "        self.file = open(self.path, 'r')\n",
    "        self.lines = []\n",
    "    def get_line(self):\n",
    "        l = ''\n",
    "        while True:\n",
    "            temp = self.file.readline()\n",
    "            temp = temp.strip().split('-')\n",
    "            temp = '-'.join(temp)\n",
    "            l = l + temp\n",
    "            if not self.has_next():\n",
    "                self.lines.append(l)\n",
    "                return l\n",
    "\n",
    "    def has_next(self):\n",
    "        p = self.file.tell()\n",
    "        temp = self.file.readline()\n",
    "        self.file.seek(p)\n",
    "        temp = temp.replace(' ', '')\n",
    "        temp = temp.strip().split('-')\n",
    "        key = temp[0]\n",
    "        if key in ['INFO', 'WARNING']:\n",
    "            return False\n",
    "        else:\n",
    "            return True\n",
    "            \n",
    "    def close(self):\n",
    "        self.file.close()\n",
    "        print('File closed')"
   ]
  },
  {
   "cell_type": "code",
   "execution_count": 6,
   "id": "caroline-looking",
   "metadata": {},
   "outputs": [],
   "source": [
    "def get_train_loss(model, exp_id, num_epoch = 10):\n",
    "    df = log_handler(model, exp_id)\n",
    "    train_loss = []\n",
    "    for i in range(num_epoch):\n",
    "        while True:\n",
    "            num_iter = 0\n",
    "            loss = 0\n",
    "            st = df.get_line()\n",
    "            st = st.strip().split(' - ')\n",
    "            data = st[3]\n",
    "            idx1 = data.find('Starting epoch')\n",
    "            if idx1 == -1:\n",
    "                continue\n",
    "            else:\n",
    "                idx2 = data.find('...')\n",
    "                epoch = int(data[idx1:idx2].strip().split(' ')[2])\n",
    "                while True:\n",
    "                    st = df.get_line()\n",
    "                    if check_end_epoch(st):\n",
    "                        loss = 0 if (num_iter == 0) else loss/num_iter\n",
    "                        train_loss.append((epoch, loss))\n",
    "                        loss = 0\n",
    "                        num_iter = 0\n",
    "                        break\n",
    "                    else:\n",
    "                        loss = loss + get_loss(st)\n",
    "                        num_iter += 1\n",
    "                break\n",
    "    return train_loss\n",
    "\n",
    "def get_valid_test_loss(model, exp_id, num_epoch = 10):\n",
    "    df = log_handler(model, exp_id)\n",
    "    losses = []\n",
    "    for i in range(num_epoch):\n",
    "        while True:\n",
    "            st = df.get_line()\n",
    "            idx1 = st.find(' __log__:')\n",
    "            if idx1 == -1:\n",
    "                continue\n",
    "            else:\n",
    "                idx1 = st.find('{')\n",
    "                s = st[idx1:]\n",
    "                dic = json.loads(s)\n",
    "                losses.append(dic)\n",
    "                break\n",
    "    return losses\n",
    "                    \n",
    "def get_loss(st):\n",
    "    idx1 = st.find('PRIM-BWD:')\n",
    "    idx2 = st.find(' - prim_bwd-AVG-STOP-PROB')\n",
    "    loss = float(st[idx1:idx2].strip().split(' ')[2])\n",
    "    return loss\n",
    "def check_end_epoch(st):\n",
    "    st = st.strip().split(' - ')\n",
    "    data = st[3]\n",
    "    idx1 = data.find('End of epoch')\n",
    "    if idx1 == -1:\n",
    "        return False\n",
    "    else:\n",
    "        return True\n",
    "def plot(model, exp_id, num_epoch = 10):\n",
    "    losses = get_valid_test_loss(model, exp_id, num_epoch)\n",
    "    train_loss = get_train_loss(model, exp_id, num_epoch)\n",
    "    assert len(train_loss) == len(losses)\n",
    "    epochs = []\n",
    "    train_ce = []\n",
    "    valid_ce = []\n",
    "    valid_ac = []\n",
    "    test_ce = []\n",
    "    test_ac = []\n",
    "    for i in range(len(train_loss)):\n",
    "        epochs.append(train_loss[i][0])\n",
    "        train_ce.append(train_loss[i][1])\n",
    "        valid_ce.append(losses[i]['valid_prim_bwd_xe_loss'])\n",
    "        valid_ac.append(losses[i]['valid_prim_bwd_acc'])\n",
    "        test_ce.append(losses[i]['test_prim_bwd_xe_loss'])\n",
    "        test_ac.append(losses[i]['test_prim_bwd_acc'])\n",
    "    plt.plot(epochs, train_ce, 'g', label='Train Cross Entropy loss')\n",
    "    plt.plot(epochs, valid_ce, 'k', label='Validation Cross Entropy loss')\n",
    "    plt.plot(epochs, test_ce, 'y', label='Test Cross Entropy loss')\n",
    "    plt.plot(epochs, valid_ac, 'b', label='Validation accuracy')\n",
    "    plt.plot(epochs, test_ac, 'r', label='Test accuracy')\n",
    "    plt.title(f'{model}-{exp_id}')\n",
    "    plt.xlabel('Epochs')\n",
    "    plt.ylabel('Loss / Accuracy')\n",
    "    plt.legend()\n",
    "    plt.show()"
   ]
  },
  {
   "cell_type": "code",
   "execution_count": 27,
   "id": "dated-shuttle",
   "metadata": {},
   "outputs": [],
   "source": [
    "model = 'M-V100'\n",
    "exp_id = '7'\n",
    "num_epoch = 31"
   ]
  },
  {
   "cell_type": "code",
   "execution_count": 28,
   "id": "democratic-pollution",
   "metadata": {},
   "outputs": [
    {
     "data": {
      "image/png": "[encoded data removed]",
      "text/plain": [
       "<Figure size 432x288 with 1 Axes>"
      ]
     },
     "metadata": {
      "needs_background": "light"
     },
     "output_type": "display_data"
    }
   ],
   "source": [
    "plot(model, exp_id, num_epoch)\n"
   ]
  },
  {
   "cell_type": "code",
   "execution_count": null,
   "id": "cosmetic-cherry",
   "metadata": {},
   "outputs": [],
   "source": []
  }
 ],
 "metadata": {
  "kernelspec": {
   "display_name": "Python 3",
   "language": "python",
   "name": "python3"
  },
  "language_info": {
   "codemirror_mode": {
    "name": "ipython",
    "version": 3
   },
   "file_extension": ".py",
   "mimetype": "text/x-python",
   "name": "python",
   "nbconvert_exporter": "python",
   "pygments_lexer": "ipython3",
   "version": "3.8.5"
  }
 },
 "nbformat": 4,
 "nbformat_minor": 5
}
